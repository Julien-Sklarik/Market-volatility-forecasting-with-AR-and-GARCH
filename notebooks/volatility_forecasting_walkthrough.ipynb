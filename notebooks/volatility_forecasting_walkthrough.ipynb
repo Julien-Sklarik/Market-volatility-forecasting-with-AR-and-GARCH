{
 "cells": [
  {
   "cell_type": "markdown",
   "id": "c06cebd0",
   "metadata": {},
   "source": [
    "# Volatility forecasting walkthrough"
   ]
  },
  {
   "cell_type": "markdown",
   "id": "c4e1bc5f",
   "metadata": {},
   "source": [
    "This notebook calls the package functions to reproduce the figures and a quick forecast using monthly realized volatility and classical volatility models.\n"
   ]
  },
  {
   "cell_type": "code",
   "execution_count": null,
   "id": "c84701a2",
   "metadata": {},
   "outputs": [],
   "source": [
    "from pathlib import Path\n",
    "from vol_forecast.data import load_prices, daily_log_returns\n",
    "from vol_forecast.modeling import realized_volatility, fit_ar1_vol, fit_garch, fit_gjr_garch\n",
    "from vol_forecast import plotting\n",
    "\n",
    "ROOT = Path.cwd().parents[0]\n",
    "DATA = ROOT / 'data'\n",
    "REPORTS = ROOT / 'reports'\n",
    "FIGS = REPORTS / 'figures'\n",
    "FIGS.mkdir(parents=True, exist_ok=True)\n",
    "\n",
    "prices = load_prices(DATA/'sp500.csv', DATA/'ge.csv', use_download=True)\n",
    "sp = prices['SP500']['price']\n",
    "ge = prices['GE']['price']\n",
    "\n",
    "r_sp = daily_log_returns(sp)\n",
    "r_ge = daily_log_returns(ge)\n",
    "\n",
    "v_sp_m = realized_volatility(r_sp, 'M')\n",
    "v_ge_m = realized_volatility(r_ge, 'M')\n",
    "\n",
    "plotting.timeseries(v_sp_m, 'SP500 monthly realized volatility', str(FIGS/'sp500_vol_m.png'))\n",
    "plotting.timeseries(v_ge_m, 'GE monthly realized volatility', str(FIGS/'ge_vol_m.png'))\n",
    "print('Saved figures to', FIGS)"
   ]
  }
 ],
 "metadata": {},
 "nbformat": 4,
 "nbformat_minor": 5
}
